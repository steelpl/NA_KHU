{
  "nbformat": 4,
  "nbformat_minor": 0,
  "metadata": {
    "colab": {
      "provenance": [],
      "authorship_tag": "ABX9TyNh/ErZVkSWRjYM06txXAL2",
      "include_colab_link": true
    },
    "kernelspec": {
      "name": "python3",
      "display_name": "Python 3"
    },
    "language_info": {
      "name": "python"
    }
  },
  "cells": [
    {
      "cell_type": "markdown",
      "metadata": {
        "id": "view-in-github",
        "colab_type": "text"
      },
      "source": [
        "<a href=\"https://colab.research.google.com/github/steelpl/NA_KHU/blob/main/Week4/NA_Wk4b.ipynb\" target=\"_parent\"><img src=\"https://colab.research.google.com/assets/colab-badge.svg\" alt=\"Open In Colab\"/></a>"
      ]
    },
    {
      "cell_type": "markdown",
      "source": [
        "# Types of operations in computing"
      ],
      "metadata": {
        "id": "RGFY-NnF5XM4"
      }
    },
    {
      "cell_type": "markdown",
      "source": [
        "## 1.Arithmetic Operations"
      ],
      "metadata": {
        "id": "irSOCBOl5djD"
      }
    },
    {
      "cell_type": "code",
      "execution_count": null,
      "metadata": {
        "id": "rUDnofK65Ssl"
      },
      "outputs": [],
      "source": [
        "# Addition\n",
        "a = 5\n",
        "b = 3\n",
        "c = a + b\n",
        "print(c)"
      ]
    },
    {
      "cell_type": "code",
      "source": [
        "# Subtraction\n",
        "a = 5\n",
        "b = 3\n",
        "c = a - b\n",
        "print(c)"
      ],
      "metadata": {
        "id": "d9GdSew95voc"
      },
      "execution_count": null,
      "outputs": []
    },
    {
      "cell_type": "code",
      "source": [
        "# Multiplication\n",
        "a = 5\n",
        "b = 3\n",
        "c = a * b\n",
        "print(c)"
      ],
      "metadata": {
        "id": "tdomgmT15zXf"
      },
      "execution_count": null,
      "outputs": []
    },
    {
      "cell_type": "code",
      "source": [
        "# Division\n",
        "a = 7\n",
        "b = 3\n",
        "c = a / b\n",
        "print(c)"
      ],
      "metadata": {
        "id": "778vvBXq53ip"
      },
      "execution_count": null,
      "outputs": []
    },
    {
      "cell_type": "code",
      "source": [
        "# Integer division (or quotient 몫)\n",
        "a = 7\n",
        "b = 3\n",
        "c = a // b\n",
        "print(c)  "
      ],
      "metadata": {
        "id": "VlDNyYtq560a"
      },
      "execution_count": null,
      "outputs": []
    },
    {
      "cell_type": "code",
      "source": [
        "# Modulo Operation\n",
        "a = 7\n",
        "b = 3\n",
        "c = a % b\n",
        "print(c)"
      ],
      "metadata": {
        "id": "0WQlsh0-6r9S"
      },
      "execution_count": null,
      "outputs": []
    },
    {
      "cell_type": "markdown",
      "source": [
        "## 2. Logical Operations "
      ],
      "metadata": {
        "id": "o5Ls_9lF8Zew"
      }
    },
    {
      "cell_type": "markdown",
      "source": [
        "### Boolean Operators\n",
        "> Boolean operators are used to compare two expressions and return a Boolean value (True or False). There are three Boolean operators in Python:\n",
        "\n",
        "* `and`: Returns True if both expressions are True.\n",
        "* `or`: Returns True if at least one of the expressions is True.\n",
        "* `not`: Returns True if the expression is False, and vice versa."
      ],
      "metadata": {
        "id": "CX2zEX499pRx"
      }
    },
    {
      "cell_type": "code",
      "source": [
        "x = 5\n",
        "y = 10\n",
        "z = 5\n",
        "\n",
        "print(x == y and x == z)\n",
        "print(x == y or x == z)\n",
        "print(not(x == y))"
      ],
      "metadata": {
        "id": "zSL7t-nx9-vC"
      },
      "execution_count": null,
      "outputs": []
    },
    {
      "cell_type": "markdown",
      "source": [
        "### Comparison Operators\n",
        "> Comparison operators are used to compare two values and return a Boolean value (True or False). There are six comparison operators in Python:\n",
        "\n",
        "* `==`: Returns True if the two values are equal.\n",
        "* `!=`: Returns True if the two values are not equal.\n",
        "* `>`: Returns True if the left operand is greater than the right operand.\n",
        "* `<`: Returns True if the left operand is less than the right operand.\n",
        "* `>=`: Returns True if the left operand is greater than or equal to the right operand.\n",
        "* `<=`: Returns True if the left operand is less than or equal to the right operand."
      ],
      "metadata": {
        "id": "q4TfbQdQ-IxJ"
      }
    },
    {
      "cell_type": "code",
      "source": [
        "x = 5\n",
        "y = 10\n",
        "z = 5\n",
        "\n",
        "print(x == y)\n",
        "print(x != y)\n",
        "print(x > y)\n",
        "print(x < y)\n",
        "print(x >= z)\n",
        "print(y <= z)"
      ],
      "metadata": {
        "id": "DdIFRZSF-uHl"
      },
      "execution_count": null,
      "outputs": []
    },
    {
      "cell_type": "markdown",
      "source": [
        "### Identity Operators:\n",
        "\n",
        "> Identity operators are used to compare the memory location of two objects and return a Boolean value (True or False). There are two identity operators in Python:\n",
        "\n",
        "* `is`: Returns True if both variables are the same object.\n",
        "* `is not`: Returns True if both variables are not the same object."
      ],
      "metadata": {
        "id": "M0-tsxK9-1c4"
      }
    },
    {
      "cell_type": "code",
      "source": [
        "x = [1, 2, 3]\n",
        "y = [1, 2, 3]\n",
        "z = x\n",
        "\n",
        "print(x is z)\n",
        "print(x is y)\n",
        "print(x == y)\n",
        "print(x is not z)"
      ],
      "metadata": {
        "id": "66gaLbC8_Cxs"
      },
      "execution_count": null,
      "outputs": []
    },
    {
      "cell_type": "markdown",
      "source": [
        "### Membership Operators\n",
        "\n",
        "> Membership operators are used to check if a value exists in a sequence and return a Boolean value (True or False). There are two membership operators in Python:\n",
        "\n",
        "* `in`: Returns True if the value exists in the sequence.\n",
        "* `not in`: Returns True if the value does not exist in the sequence."
      ],
      "metadata": {
        "id": "rKQE2Fes_LL_"
      }
    },
    {
      "cell_type": "code",
      "source": [
        "x = [1, 2, 3]\n",
        "y = 4\n",
        "\n",
        "print(y in x)\n",
        "print(2 in x)\n",
        "print(4 not in x)"
      ],
      "metadata": {
        "id": "X4UneqhU_Svh"
      },
      "execution_count": null,
      "outputs": []
    },
    {
      "cell_type": "markdown",
      "source": [
        "### 3. Bitwise Operations\n",
        "> Operations that manipulate individual bits of data\n",
        "\n",
        "* binary (numbers with a `0b` prefix in python)\n"
      ],
      "metadata": {
        "id": "u2qhDQ3ZArhG"
      }
    },
    {
      "cell_type": "code",
      "source": [
        "# Bitwise AND:\n",
        "a = 0b1100\n",
        "b = 0b1010\n",
        "print(bin(a & b))"
      ],
      "metadata": {
        "id": "nCjdy1jmBOsY"
      },
      "execution_count": null,
      "outputs": []
    },
    {
      "cell_type": "code",
      "source": [
        "# Bitwise OR:\n",
        "a = 0b1100\n",
        "b = 0b1010\n",
        "print(bin(a | b))"
      ],
      "metadata": {
        "id": "ijZ-h6JLBUFd"
      },
      "execution_count": null,
      "outputs": []
    },
    {
      "cell_type": "code",
      "source": [
        "# Bitwise XOR:\n",
        "a = 0b1100\n",
        "b = 0b1010\n",
        "print(bin(a ^ b))"
      ],
      "metadata": {
        "id": "mEwSzZ8ZBWO3"
      },
      "execution_count": null,
      "outputs": []
    },
    {
      "cell_type": "code",
      "source": [
        "# Bitwise NOT:\n",
        "a = 0b1100\n",
        "print(bin(~a))"
      ],
      "metadata": {
        "id": "70ZL-70LBYQD"
      },
      "execution_count": null,
      "outputs": []
    },
    {
      "cell_type": "code",
      "source": [
        "# Left Shift:\n",
        "a = 0b1100\n",
        "print(bin(a << 2))"
      ],
      "metadata": {
        "id": "5CkKQt49BarH"
      },
      "execution_count": null,
      "outputs": []
    },
    {
      "cell_type": "code",
      "source": [
        "# Right Shift:\n",
        "a = 0b1100\n",
        "print(bin(a >> 2))"
      ],
      "metadata": {
        "id": "0ucaTToFBdRq"
      },
      "execution_count": null,
      "outputs": []
    },
    {
      "cell_type": "code",
      "source": [
        "# Binary arithmetic # c = a + b\n",
        "a = 0b1011 # 11 \n",
        "b = 0b0010 # 2\n",
        "c = int(a) + int(b) \n",
        "print(bin(c))\n",
        "print(c)"
      ],
      "metadata": {
        "id": "wo6BTICXQHcE"
      },
      "execution_count": null,
      "outputs": []
    },
    {
      "cell_type": "code",
      "source": [
        "# Binary arithmetic # c = b – a\n",
        "a = 0b1011 # 11 \n",
        "b = 0b0010 # 2\n",
        "c= int(b) - int(a) \n",
        "print(bin(c))\n",
        "print(c)"
      ],
      "metadata": {
        "id": "RS94MkRHQNeR"
      },
      "execution_count": null,
      "outputs": []
    },
    {
      "cell_type": "code",
      "source": [
        "# Binary arithmetic # c = 3 * a\n",
        "a = 0b1011 # 11 \n",
        "c= int(a) + int(a) + int(a) \n",
        "print(bin(c))\n",
        "print(c)"
      ],
      "metadata": {
        "id": "gygRzy9bQYVb"
      },
      "execution_count": null,
      "outputs": []
    },
    {
      "cell_type": "code",
      "source": [
        "# Binary arithmetic # c = a / b \n",
        "a = 0b1011 # 11\n",
        "b = 0b0010 # 2\n",
        "c = int(a) - int(b) - int(b) - int(b) \n",
        "print(bin(c))\n",
        "print(c)"
      ],
      "metadata": {
        "id": "aG-Tws7jQk9P"
      },
      "execution_count": null,
      "outputs": []
    },
    {
      "cell_type": "code",
      "source": [
        "# 3 x 4 = 12\n",
        "a = 3 \n",
        "sleft2 = bin(a<<2)\n",
        "print(sleft2)\n",
        "print(int(sleft2,2))"
      ],
      "metadata": {
        "id": "Y8rX17_cSf-D"
      },
      "execution_count": null,
      "outputs": []
    },
    {
      "cell_type": "code",
      "source": [
        "# 10 / 2 = 5\n",
        "a = 10 \n",
        "sright = bin(a>>1)\n",
        "print(sright) \n",
        "print(int(sright,2))"
      ],
      "metadata": {
        "id": "ah_31B-QSy6V"
      },
      "execution_count": null,
      "outputs": []
    },
    {
      "cell_type": "code",
      "source": [
        "# 3 X 5 = 15\n",
        "a = 3\n",
        "sright = bin(a<<2)\n",
        "print(sright)\n",
        "b = int(sright,2) + 3 \n",
        "print(b)"
      ],
      "metadata": {
        "id": "YYiVM73AS-VT"
      },
      "execution_count": null,
      "outputs": []
    },
    {
      "cell_type": "markdown",
      "source": [
        "### 4. String Operations\n",
        "\n",
        "> Operations that manipulate strings of text "
      ],
      "metadata": {
        "id": "f7ozo7NaDSSA"
      }
    },
    {
      "cell_type": "code",
      "source": [
        "# Concatenation\n",
        "str1 = \"Hello\"\n",
        "str2 = \"World\"\n",
        "str3 = str1 + \" \" + str2\n",
        "print(str3)"
      ],
      "metadata": {
        "id": "jCyrpOLlFhBc"
      },
      "execution_count": null,
      "outputs": []
    },
    {
      "cell_type": "code",
      "source": [
        "# Length\n",
        "str = \"Python is awesome\"\n",
        "print(len(str))"
      ],
      "metadata": {
        "id": "MbnTV7I8Flp0"
      },
      "execution_count": null,
      "outputs": []
    },
    {
      "cell_type": "code",
      "source": [
        "# Slicing\n",
        "str = \"Python is awesome\"\n",
        "substr = str[0:6]  # Extracts the substring from index 0 to 5 (excluding 6)\n",
        "print(substr)"
      ],
      "metadata": {
        "id": "T3Sx0n_cFnEa"
      },
      "execution_count": null,
      "outputs": []
    },
    {
      "cell_type": "code",
      "source": [
        "# Searching\n",
        "str = \"Python is awesome\"\n",
        "if \"is\" in str:\n",
        "    print(\"Substring found\")\n",
        "else:\n",
        "    print(\"Substring not found\")"
      ],
      "metadata": {
        "id": "hq6N50IhFnWW"
      },
      "execution_count": null,
      "outputs": []
    },
    {
      "cell_type": "code",
      "source": [
        "# Replacing\n",
        "str = \"Python is awesome\"\n",
        "new_str = str.replace(\"awesome\", \"great\")\n",
        "print(new_str)"
      ],
      "metadata": {
        "id": "hIW3NEUsFnsa"
      },
      "execution_count": null,
      "outputs": []
    },
    {
      "cell_type": "code",
      "source": [
        "# Upper/Lowercase\n",
        "str = \"Python is awesome\"\n",
        "print(str.upper())  # Output: PYTHON IS AWESOME\n",
        "print(str.lower())  # Output: python is awesome\n"
      ],
      "metadata": {
        "id": "KiLBXJZIFnhs"
      },
      "execution_count": null,
      "outputs": []
    },
    {
      "cell_type": "code",
      "source": [
        "# Formatting\n",
        "name = \"John\"\n",
        "age = 30\n",
        "print(\"My name is {} and I am {} years old\".format(name, age))"
      ],
      "metadata": {
        "id": "SPPMgkUXFn2H"
      },
      "execution_count": null,
      "outputs": []
    },
    {
      "cell_type": "markdown",
      "source": [
        "# Algorithm\n",
        "\n",
        "\n"
      ],
      "metadata": {
        "id": "P-dG-QypUM8_"
      }
    },
    {
      "cell_type": "markdown",
      "source": [
        "## 1. Designing the Euclidean algorithm to find the greatest common divisor (GCD) of two integers"
      ],
      "metadata": {
        "id": "G8IiCea_UTiq"
      }
    },
    {
      "cell_type": "code",
      "source": [
        "# Step 1: Get input from the user\n",
        "num1 = int(input(\"Enter the first number: \"))\n",
        "num2 = int(input(\"Enter the second number: \"))\n",
        "\n",
        "print(\"the first number is\", num1, \"and the second number is\", num2)"
      ],
      "metadata": {
        "id": "qSVnqqnIUjt_"
      },
      "execution_count": null,
      "outputs": []
    },
    {
      "cell_type": "code",
      "source": [
        "# Step 2: Ensure num1 is larger than num2\n",
        "if num1 < num2:\n",
        "    num1, num2 = num2, num1\n",
        "\n",
        "print(\"the first number is\", num1, \"and the second number is\", num2)"
      ],
      "metadata": {
        "id": "HP7OvJbzVMHN"
      },
      "execution_count": null,
      "outputs": []
    },
    {
      "cell_type": "code",
      "source": [
        "# Step 3: Use Euclidean algorithm to find GCD\n",
        "while num2 != 0:\n",
        "    temp = num2\n",
        "    num2 = num1 % num2\n",
        "    num1 = temp"
      ],
      "metadata": {
        "id": "W_k2NTDnXGkf"
      },
      "execution_count": null,
      "outputs": []
    },
    {
      "cell_type": "code",
      "source": [
        "# Step 4: Output the result\n",
        "print(\"The GCD is:\", num1)"
      ],
      "metadata": {
        "id": "eVMuFz3TZRpg"
      },
      "execution_count": null,
      "outputs": []
    },
    {
      "cell_type": "markdown",
      "source": [
        "## 2. Designing an algorithm to calculate the average of a list of numbers\n",
        "\n",
        "\n",
        "\n",
        "1.   Start by initializing a variable called `total` to 0, and another variable called `count` to 0.\n",
        "2. Ask the user to enter a list of numbers, separated by commas.\n",
        "3. Split the input string into a list of numbers using the `split()` function.\n",
        "4. Use a for loop to iterate over each number in the list.\n",
        "5. Convert each number to a float using the `float()` function and add it to the `total` variable.\n",
        "6. Increment the `count` variable by 1 for each number in the list.\n",
        "7. Calculate the average by dividing `total` by `count`.\n",
        "8. Print out the average.\n",
        "\n",
        "\n",
        "\n"
      ],
      "metadata": {
        "id": "DPsD9hfCbzOU"
      }
    },
    {
      "cell_type": "code",
      "source": [
        "# Step 1: Initializing variables\n",
        "total = 0\n",
        "count = 0\n",
        "\n",
        "# Step 2: Asking user to input list of numbers\n",
        "num_list = input(\"Enter a list of numbers separated by commas: \")\n",
        "\n",
        "# Step 3: Splitting input string into list of numbers\n",
        "num_list = num_list.split(\",\")"
      ],
      "metadata": {
        "id": "apLBCFm0cnXz"
      },
      "execution_count": null,
      "outputs": []
    },
    {
      "cell_type": "code",
      "source": [
        "# Step 4: Iterating over each number in the list\n",
        "for num in num_list:\n",
        "    # Step 5:  Converting each number to float and adding to total\n",
        "    total += float(num)\n",
        "    # Step 6: Incrementing count\n",
        "    count += 1\n",
        "\n",
        "# Step 7: Calculating average\n",
        "average = total / count\n",
        "\n",
        "# Step 8: Printing out the average\n",
        "print(\"The average of the list is:\", average)"
      ],
      "metadata": {
        "id": "BSjI8K_ic-vl"
      },
      "execution_count": null,
      "outputs": []
    },
    {
      "cell_type": "markdown",
      "source": [
        "## 3. Designing an algorithm to Find the smallest positive integer that is divisible by both x and y (least common multiple, LCM)\n",
        "\n",
        "1. Input two integers `x` and `y`.\n",
        "2. Find the maximum of `x` and `y` and assign it to `max_val`.\n",
        "3. Start a loop from `max_val` and increment by 1 until a number that is divisible by both `x` and `y` is found.\n",
        "4. Output the result.\n",
        "\n",
        "\n",
        "\n"
      ],
      "metadata": {
        "id": "d9i7i2Aef9eT"
      }
    },
    {
      "cell_type": "code",
      "source": [
        "# Step 1: Input two integers x and y\n",
        "x = int(input(\"Enter the first integer: \"))\n",
        "y = int(input(\"Enter the second integer: \"))\n",
        "\n",
        "# Step 2: Find the maximum of x and y and assign it to max_val\n",
        "max_val = max(x, y)\n",
        "\n",
        "# Step 3: Start a loop from max_val and increment by 1 \n",
        "#         until a number that is divisible by both x and y is found.\n",
        "while True:\n",
        "    if max_val % x == 0 and max_val % y == 0:\n",
        "        # Step 4: Output the result\n",
        "        print(\"The LCM of\", x, \"and\", y, \"is\", max_val)\n",
        "        break\n",
        "    max_val += 1"
      ],
      "metadata": {
        "id": "E7Fl-4KdkWwM"
      },
      "execution_count": null,
      "outputs": []
    },
    {
      "cell_type": "markdown",
      "source": [
        "## 4. Designing an algorithm to sort a list of integers in ascending order\n",
        "\n",
        "1. Input a list of integers.\n",
        "2. Start a loop to iterate over each element in the list.\n",
        "3. Within the loop, start another loop to compare each element with the elements that come after it.\n",
        "4. If the element is greater than the one that comes after it, swap the two elements.\n",
        "5. Continue the inner loop until all elements have been compared to each other.\n",
        "6. Repeat the outer loop until the entire list is sorted in ascending order.\n",
        "7. Output the sorted list.\n",
        "\n",
        "\n",
        "\n"
      ],
      "metadata": {
        "id": "PEPCa0r4log0"
      }
    },
    {
      "cell_type": "code",
      "source": [
        "#Step 1: Input a list of integers\n",
        "lst = [int(x) for x in input(\"Enter a list of integers separated by spaces: \").split()]\n",
        "\n",
        "# Step 2: Within the loop, start another loop to compare each element \n",
        "#         with the elements that come after it\n",
        "n = len(lst)\n",
        "for i in range(n):\n",
        "    for j in range(i+1, n):\n",
        "        # Step 3: If the element is greater than the one that comes after it, \n",
        "        #         swap the two elements.        \n",
        "        if lst[i] > lst[j]:\n",
        "            lst[i], lst[j] = lst[j], lst[i]\n",
        "        # Step 4: Continue the inner loop \n",
        "        #         until all elements have been compared to each other\n",
        "# Step 5: Repeat the outer loop \n",
        "#         until the entire list is sorted in ascending order\n",
        "\n",
        "# Step 6: Output the sorted list\n",
        "print(\"The sorted list is:\", lst)\n"
      ],
      "metadata": {
        "id": "UiHaamepmDVj"
      },
      "execution_count": null,
      "outputs": []
    }
  ]
}